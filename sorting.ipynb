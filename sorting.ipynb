{
 "cells": [
  {
   "cell_type": "markdown",
   "id": "6807e865",
   "metadata": {},
   "source": [
    "# bubble sort"
   ]
  },
  {
   "cell_type": "code",
   "execution_count": 120,
   "id": "6045a2b1",
   "metadata": {},
   "outputs": [],
   "source": [
    "def bubble(array):\n",
    "    for i in range(1,len(array)):\n",
    "        for j in range(len(array)-i):\n",
    "            if array[j]>array[j+1]:\n",
    "                array[j],array[j+1]=array[j+1],array[j]\n",
    "    return(array)"
   ]
  },
  {
   "cell_type": "code",
   "execution_count": 121,
   "id": "dad617e7",
   "metadata": {},
   "outputs": [
    {
     "data": {
      "text/plain": [
       "[1, 3, 5, 7, 8, 9, 10]"
      ]
     },
     "execution_count": 121,
     "metadata": {},
     "output_type": "execute_result"
    }
   ],
   "source": [
    "bubble([3,1,5,7,8,10,9])"
   ]
  },
  {
   "cell_type": "code",
   "execution_count": 122,
   "id": "da945b13",
   "metadata": {},
   "outputs": [
    {
     "data": {
      "text/plain": [
       "['b', 'd', 'e', 'g', 'r', 'z']"
      ]
     },
     "execution_count": 122,
     "metadata": {},
     "output_type": "execute_result"
    }
   ],
   "source": [
    "bubble(['z','b','g','r','d','e'])"
   ]
  },
  {
   "cell_type": "code",
   "execution_count": 123,
   "id": "2f4599a6",
   "metadata": {},
   "outputs": [],
   "source": [
    "def bubble(array):\n",
    "    word=list(array)\n",
    "    for i in range(1,len(word)):\n",
    "        for j in range(len(word)-i):\n",
    "            if word[j]>word[j+1]:\n",
    "                word[j],word[j+1]=word[j+1],word[j]\n",
    "    return word"
   ]
  },
  {
   "cell_type": "code",
   "execution_count": 124,
   "id": "61d7e078",
   "metadata": {},
   "outputs": [
    {
     "data": {
      "text/plain": [
       "['a', 'e', 'h', 'j', 't']"
      ]
     },
     "execution_count": 124,
     "metadata": {},
     "output_type": "execute_result"
    }
   ],
   "source": [
    "bubble('theja')"
   ]
  },
  {
   "cell_type": "markdown",
   "id": "d7082efd",
   "metadata": {},
   "source": [
    "# selection sort"
   ]
  },
  {
   "cell_type": "code",
   "execution_count": 23,
   "id": "b44ed543",
   "metadata": {},
   "outputs": [],
   "source": [
    "def select(array):\n",
    "    for i in range(0,len(array)):\n",
    "        current_min=i\n",
    "        for j in range(i+1,(len(array))):\n",
    "            if array[j]<array[current_min]:\n",
    "                current_min=j\n",
    "        array[i],array[current_min]=array[current_min],array[i]\n",
    "    return array"
   ]
  },
  {
   "cell_type": "code",
   "execution_count": 24,
   "id": "99304be1",
   "metadata": {},
   "outputs": [
    {
     "data": {
      "text/plain": [
       "[22, 45, 66, 78, 90, 92]"
      ]
     },
     "execution_count": 24,
     "metadata": {},
     "output_type": "execute_result"
    }
   ],
   "source": [
    "select([90,45,22,78,92,66])"
   ]
  },
  {
   "cell_type": "markdown",
   "id": "6e8fdadb",
   "metadata": {},
   "source": [
    "## insertion sort"
   ]
  },
  {
   "cell_type": "code",
   "execution_count": 1,
   "id": "e8543822",
   "metadata": {},
   "outputs": [],
   "source": [
    "def insert(array):\n",
    "    for i in range(0 ,len(array)):\n",
    "        for j in range(len(array)-i):\n",
    "            while array[j-1] > array[j] and j>0 :\n",
    "                array[j-1],array[j] = array[j],array[j-1]\n",
    "    return array"
   ]
  },
  {
   "cell_type": "code",
   "execution_count": 2,
   "id": "64081a9e",
   "metadata": {},
   "outputs": [
    {
     "data": {
      "text/plain": [
       "[2, 3, 4, 5, 6, 7, 9]"
      ]
     },
     "execution_count": 2,
     "metadata": {},
     "output_type": "execute_result"
    }
   ],
   "source": [
    "insert([9,7,5,6,3,4,2])"
   ]
  },
  {
   "cell_type": "code",
   "execution_count": 3,
   "id": "b1986c4d",
   "metadata": {},
   "outputs": [
    {
     "data": {
      "text/plain": [
       "['a', 'g', 'h', 't', 'v', 'z']"
      ]
     },
     "execution_count": 3,
     "metadata": {},
     "output_type": "execute_result"
    }
   ],
   "source": [
    "insert(['a','v','h','g','t','z'])"
   ]
  },
  {
   "cell_type": "code",
   "execution_count": 118,
   "id": "5d1bc118",
   "metadata": {},
   "outputs": [],
   "source": [
    "def insert(array):\n",
    "    v=list(array)\n",
    "    for i in range(0 ,len(v)):\n",
    "        for j in range(len(v)-i):\n",
    "            while v[j-1] > v[j] and j>0 :\n",
    "                v[j-1],v[j] = v[j],v[j-1]\n",
    "    return (v)"
   ]
  },
  {
   "cell_type": "code",
   "execution_count": 119,
   "id": "fdb5077d",
   "metadata": {},
   "outputs": [
    {
     "data": {
      "text/plain": [
       "['a', 'e', 'h', 'j', 't']"
      ]
     },
     "execution_count": 119,
     "metadata": {},
     "output_type": "execute_result"
    }
   ],
   "source": [
    "insert('theja')"
   ]
  },
  {
   "cell_type": "code",
   "execution_count": null,
   "id": "88ab1f3d",
   "metadata": {},
   "outputs": [],
   "source": []
  }
 ],
 "metadata": {
  "kernelspec": {
   "display_name": "Python 3 (ipykernel)",
   "language": "python",
   "name": "python3"
  },
  "language_info": {
   "codemirror_mode": {
    "name": "ipython",
    "version": 3
   },
   "file_extension": ".py",
   "mimetype": "text/x-python",
   "name": "python",
   "nbconvert_exporter": "python",
   "pygments_lexer": "ipython3",
   "version": "3.10.9"
  }
 },
 "nbformat": 4,
 "nbformat_minor": 5
}
